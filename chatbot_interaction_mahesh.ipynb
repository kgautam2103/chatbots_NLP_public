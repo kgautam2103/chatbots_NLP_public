{
  "nbformat": 4,
  "nbformat_minor": 0,
  "metadata": {
    "colab": {
      "name": "chatbot_interaction_mahesh.ipynb",
      "provenance": [],
      "collapsed_sections": [],
      "authorship_tag": "ABX9TyOiS0ZEVavayUT36YdCG2zs",
      "include_colab_link": true
    },
    "kernelspec": {
      "name": "python3",
      "display_name": "Python 3"
    },
    "language_info": {
      "name": "python"
    }
  },
  "cells": [
    {
      "cell_type": "markdown",
      "metadata": {
        "id": "view-in-github",
        "colab_type": "text"
      },
      "source": [
        "<a href=\"https://colab.research.google.com/github/kgautam2103/chatbots_NLP_public/blob/main/chatbot_interaction_mahesh.ipynb\" target=\"_parent\"><img src=\"https://colab.research.google.com/assets/colab-badge.svg\" alt=\"Open In Colab\"/></a>"
      ]
    },
    {
      "cell_type": "code",
      "metadata": {
        "id": "w2j6qV41zVc6"
      },
      "source": [
        "#!/usr/bin/env python3\n",
        "# -*- coding: utf-8 -*-\n",
        "\"\"\"\n",
        "Created on Sun Aug 29 05:03:45 2021\n",
        "\n",
        "@author: mps\n",
        "\"\"\"\n",
        "\n",
        "import config\n",
        "import return_answers_extractive_ai\n",
        "import time\n",
        "timeout = time.time() + 600\n",
        "\n",
        "\n",
        "context = 'Client holiday calendar will be application for associates working at client site.'\n",
        "number = 0\n",
        "session_status = False  ## Make it True when user communicate and make it False after giving answer and wait\n",
        "old_inp =''\n",
        "inp = ''\n",
        "\n",
        "def anything_else():\n",
        "    \n",
        "    print('\\nGot what you were looking? yes or no')\n",
        "    inp = input()\n",
        "    \n",
        "    if(inp == 'yes' or inp == 'Yes'):\n",
        "        print('please rate your expirience with Manav between 1 to 5')\n",
        "        inp = int(input())\n",
        "        return inp\n",
        "    else:\n",
        "        return 0\n",
        "    \n",
        "def chat():\n",
        "    \n",
        "    inp = int(input())\n",
        "    number = inp\n",
        "    if(number):\n",
        "        print('\\nPlease ask about '+config.class_dict[number])\n",
        "        \n",
        "    inp = input()\n",
        "    \n",
        "    obj = return_answers_extractive_ai.return_extractive_qna(inp,context)\n",
        "    answer = obj.return_answer()\n",
        "    return answer\n",
        "\n",
        "print(\"Hi, I am Manav, Your HR Buddy\")\n",
        "print(\"\\nI can help you with below given topics, Please pick a number\")\n",
        "print(\"\\n\\n\\n 1.Holiday   2. Leave Policy  3. Attendance  4. Exit Process  5. Refferal Bonus  6. Got my answer no more questions\")\n",
        "\n",
        "\n",
        "\n",
        "while number!=6:\n",
        "    if(time.time() > timeout):\n",
        "        print(\"You were out for 1 min logging you out from your session\")\n",
        "        break\n",
        "    \n",
        "   # if(old_inp == inp):\n",
        "        #time.sleep(60)\n",
        "        #session_status = True\n",
        "        \n",
        "    answer = chat()\n",
        "    \n",
        "    print(answer)\n",
        "    rating = anything_else()\n",
        "    if(rating<1):\n",
        "        print(\"\\n\\n\\n 1.Holiday   2. Leave Policy  3. Attendance  4. Exit Process  5. Refferal Bonus  6. Got my answer no more questions\")\n",
        "        \n",
        "    else: \n",
        "        number = 6\n",
        "        print(\"Store data to to database question, answer, rating\")\n",
        "    \n",
        "    old_inp = inp\n",
        "\n",
        "        \n",
        "    #break"
      ],
      "execution_count": null,
      "outputs": []
    }
  ]
}